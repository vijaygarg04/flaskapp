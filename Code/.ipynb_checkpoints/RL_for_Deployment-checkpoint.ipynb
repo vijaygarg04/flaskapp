{
 "cells": [
  {
   "cell_type": "markdown",
   "metadata": {},
   "source": [
    "## RL PoC for deployment"
   ]
  },
  {
   "cell_type": "markdown",
   "metadata": {},
   "source": [
    "#### Load neccessary Libraries"
   ]
  },
  {
   "cell_type": "code",
   "execution_count": 1,
   "metadata": {},
   "outputs": [
    {
     "ename": "ModuleNotFoundError",
     "evalue": "No module named 'holidays'",
     "output_type": "error",
     "traceback": [
      "\u001b[1;31m---------------------------------------------------------------------------\u001b[0m",
      "\u001b[1;31mModuleNotFoundError\u001b[0m                       Traceback (most recent call last)",
      "\u001b[1;32m<ipython-input-1-e70c6f120df4>\u001b[0m in \u001b[0;36m<module>\u001b[1;34m\u001b[0m\n\u001b[0;32m     19\u001b[0m \u001b[1;31m#import statsmodels.api as sm # For ZIP\u001b[0m\u001b[1;33m\u001b[0m\u001b[1;33m\u001b[0m\u001b[1;33m\u001b[0m\u001b[0m\n\u001b[0;32m     20\u001b[0m \u001b[1;31m#from scipy import stats # For ZIP\u001b[0m\u001b[1;33m\u001b[0m\u001b[1;33m\u001b[0m\u001b[1;33m\u001b[0m\u001b[0m\n\u001b[1;32m---> 21\u001b[1;33m \u001b[1;32mimport\u001b[0m \u001b[0mholidays\u001b[0m\u001b[1;33m\u001b[0m\u001b[1;33m\u001b[0m\u001b[0m\n\u001b[0m\u001b[0;32m     22\u001b[0m \u001b[0mus_holidays\u001b[0m \u001b[1;33m=\u001b[0m \u001b[0mholidays\u001b[0m\u001b[1;33m.\u001b[0m\u001b[0mUnitedStates\u001b[0m\u001b[1;33m(\u001b[0m\u001b[1;33m)\u001b[0m\u001b[1;33m\u001b[0m\u001b[1;33m\u001b[0m\u001b[0m\n\u001b[0;32m     23\u001b[0m \u001b[1;31m#from xgboost import XGBClassifier\u001b[0m\u001b[1;33m\u001b[0m\u001b[1;33m\u001b[0m\u001b[1;33m\u001b[0m\u001b[0m\n",
      "\u001b[1;31mModuleNotFoundError\u001b[0m: No module named 'holidays'"
     ]
    }
   ],
   "source": [
    "import numpy as np\n",
    "import pandas as pd\n",
    "#from tabulate import tabulate\n",
    "from scipy.optimize import linprog\n",
    "#import scipy.stats as stats \n",
    "import scipy.optimize as opt #For Linear optimization\n",
    "import matplotlib\n",
    "from matplotlib import pyplot as plt\n",
    "#import matplotlib.animation as animation\n",
    "#import random\n",
    "import seaborn as sns\n",
    "import datetime as dt\n",
    "from datetime import timedelta\n",
    "#from sklearn.metrics import mean_squared_error\n",
    "import itertools\n",
    "#from sklearn.neighbors import KNeighborsClassifier\n",
    "#import math as math\n",
    "#import statsmodels.discrete.count_model as reg_models\n",
    "#import statsmodels.api as sm # For ZIP\n",
    "#from scipy import stats # For ZIP\n",
    "import holidays\n",
    "us_holidays = holidays.UnitedStates()\n",
    "#from xgboost import XGBClassifier\n",
    "#from sklearn.metrics import accuracy_score\n",
    "#from sklearn.metrics import confusion_matrix\n",
    "#from sklearn.model_selection import GridSearchCV\n",
    "import pickle\n",
    "\n",
    "#np.set_printoptions(precision=2)\n",
    "#pd.set_option('display.max_columns', 500)\n",
    "#pd.options.display.max_rows = 500"
   ]
  },
  {
   "cell_type": "markdown",
   "metadata": {},
   "source": [
    "### Input required files and models\n",
    "1. xg_reg => Predict price\n",
    "2. model_xgb_class => Predict whether demand > 0\n",
    "3. xg_reg_dem_above0 => Predict demand based on price and other factors\n",
    "4. df_dem_for_reg => For past demand data"
   ]
  },
  {
   "cell_type": "code",
   "execution_count": 115,
   "metadata": {},
   "outputs": [],
   "source": [
    "xg_reg = pickle.load(open(\"Pickle/price_reg.pkl\", 'rb'))\n",
    "model_xgb_class = pickle.load(open(\"Pickle/demand_classifier.pkl\", 'rb'))\n",
    "xg_reg_dem_above0 = pickle.load(open(\"Pickle/xg_reg_dem_above0.pkl\", 'rb'))\n",
    "df_req_price = pickle.load(open(\"Pickle/past_data_price.pkl\", 'rb'))\n",
    "df_dem_for_reg = pickle.load(open(\"Pickle/past_data_demand.pkl\", 'rb'))"
   ]
  },
  {
   "cell_type": "markdown",
   "metadata": {},
   "source": [
    "#### Calculate few things for writing functions\n",
    "1. Number of columns in price model\n",
    "2. Number of columns in demand model"
   ]
  },
  {
   "cell_type": "code",
   "execution_count": 116,
   "metadata": {},
   "outputs": [],
   "source": [
    "price_x = pd.get_dummies(df_req_price, columns=['Agent', 'Meal', 'ArrivalDateMonth', 'AssignedRoomType'])\n",
    "price_x = price_x.drop(['ADR'],axis = 1)\n",
    "dem_x = pd.get_dummies(df_dem_for_reg, columns=['Agent', 'AssignedRoomType', 'Meal', 'ArrivalDateMonth'])\n",
    "dem_x = dem_x.drop(['date','demand'],axis = 1)"
   ]
  },
  {
   "cell_type": "code",
   "execution_count": 117,
   "metadata": {},
   "outputs": [],
   "source": [
    "def mean_absolute_percentage_error(y_true, y_pred): \n",
    "    y_true, y_pred = np.array(y_true), np.array(y_pred)\n",
    "    return np.mean(np.abs((y_true - y_pred) / y_true)) * 100"
   ]
  },
  {
   "cell_type": "code",
   "execution_count": 118,
   "metadata": {},
   "outputs": [],
   "source": [
    "def get_daterange(start_date, end_date, step):\n",
    "    while start_date <= end_date:\n",
    "        yield start_date\n",
    "        start_date += step"
   ]
  },
  {
   "cell_type": "code",
   "execution_count": 159,
   "metadata": {},
   "outputs": [],
   "source": [
    "def price_fun(df_pred):\n",
    "    df_pred_2 = pd.get_dummies(df_pred, columns=['Agent', 'Meal', 'ArrivalDateMonth', 'AssignedRoomType'])     \n",
    "    \n",
    "    \n",
    "    #Create a dataframe of zeros with rows = no: of input, col = standard no: of col\n",
    "    zero_data = np.zeros(shape=(df_pred.shape[0],price_x.shape[1]))\n",
    "    X_fun = pd.DataFrame(zero_data, columns=price_x.columns)\n",
    "    \n",
    "    for i in df_pred_2.columns:\n",
    "        X_fun[i] = df_pred_2[i]\n",
    "    \n",
    "    return(xg_reg.predict(X_fun))"
   ]
  },
  {
   "cell_type": "code",
   "execution_count": 160,
   "metadata": {},
   "outputs": [],
   "source": [
    "#Function that is useful for directly feeding in the values\n",
    "def price_single_fun(#Country,\n",
    "    ArrivalDateYear, ArrivalDateMonth, ArrivalDateWeekNumber,\n",
    "                     Agent,#DistributionChannel,\n",
    "                     AssignedRoomType, Meal,\n",
    "                     StaysInWeekendNights=0,StaysInWeekNights=0,Adults =2, Children=0, Babies=0):\n",
    "    \n",
    "    temp = df_req_price.loc[:, df_req_price.columns != 'ADR']\n",
    "    out_single = pd.DataFrame(index=range(1),columns=temp.columns)\n",
    "    #out_single.loc[0,\"Country\"] = Country\n",
    "    out_single.loc[0,\"ArrivalDateYear\"] = ArrivalDateYear\n",
    "    out_single.loc[0,\"ArrivalDateMonth\"] = ArrivalDateMonth\n",
    "    out_single.loc[0,\"ArrivalDateWeekNumber\"] = ArrivalDateWeekNumber\n",
    "    out_single.loc[0,\"StaysInWeekendNights\"] = StaysInWeekendNights\n",
    "    out_single.loc[0,\"StaysInWeekNights\"] = StaysInWeekNights\n",
    "    out_single.loc[0,\"Adults\"] = Adults\n",
    "    out_single.loc[0,\"Children\"] = Children\n",
    "    out_single.loc[0,\"Babies\"] = Babies\n",
    "    out_single.loc[0,\"AssignedRoomType\"] = AssignedRoomType\n",
    "    out_single.loc[0,\"Meal\"] = Meal\n",
    "    out_single.loc[0,\"Agent\"] = Agent\n",
    "    #out_single.loc[0,\"DistributionChannel\"] = DistributionChannel\n",
    "    \n",
    "    for x in out_single.columns:\n",
    "        out_single[x]=out_single[x].astype(temp[x].dtypes.name)\n",
    "\n",
    "    \n",
    "    return(price_fun(out_single))\n",
    "    \n"
   ]
  },
  {
   "cell_type": "code",
   "execution_count": 161,
   "metadata": {},
   "outputs": [],
   "source": [
    "def expandgrid(*itrs):\n",
    "   product = list(itertools.product(*itrs))\n",
    "   return {'Var{}'.format(i+1):[x[i] for x in product] for i in range(len(itrs))}"
   ]
  },
  {
   "cell_type": "code",
   "execution_count": 162,
   "metadata": {},
   "outputs": [],
   "source": [
    "def dem_fun(df_dem_pred):\n",
    "    df_dem_pred_2 = pd.get_dummies(df_dem_pred, columns=['Agent', 'AssignedRoomType', 'Meal', 'ArrivalDateMonth'])      \n",
    "    \n",
    "    #Create a dataframe of zeros with rows = no: of input, col = standard no: of col\n",
    "    zero_data = np.zeros(shape=(df_dem_pred.shape[0],dem_x.shape[1]))\n",
    "    X_fun = pd.DataFrame(zero_data, columns=dem_x.columns)\n",
    "    \n",
    "    for j in df_dem_pred_2.columns:\n",
    "        X_fun[j] = df_dem_pred_2[j]\n",
    "    \n",
    "    #Take anything <0 as 0\n",
    "    xg_dem = np.floor(model_xgb_class.predict(X_fun) * xg_reg_dem_above0.predict(X_fun)) #XGBoost prediction\n",
    "    temp123 = np.array(xg_dem)\n",
    "    temp123[temp123 <0] = 0\n",
    "    \n",
    "    output_demand = list(temp123)\n",
    "\n",
    "    \n",
    "    return(output_demand)"
   ]
  },
  {
   "cell_type": "code",
   "execution_count": 163,
   "metadata": {},
   "outputs": [],
   "source": [
    "#Function that is useful for directly feeding in the values\n",
    "def dem_single_fun(Agent, AssignedRoomType, Meal,ArrivalDateMonth,ADR,Week_day, \n",
    "                        ArrivalDateWeekNumber,ArrivalDateYear,Day,public_holiday):\n",
    "    \n",
    "    temp = df_dem_for_reg.loc[:, df_dem_for_reg.columns != 'demand']\n",
    "    temp = temp.loc[:, temp.columns != 'date']\n",
    "    out_single = pd.DataFrame(index=range(1),columns=temp.columns)\n",
    "    #out_single.loc[0,\"Country\"] = Country\n",
    "    out_single.loc[0,\"Agent\"] = Agent\n",
    "    out_single.loc[0,\"AssignedRoomType\"] = AssignedRoomType\n",
    "    out_single.loc[0,\"Meal\"] = Meal\n",
    "    out_single.loc[0,\"ArrivalDateMonth\"] = ArrivalDateMonth\n",
    "    out_single.loc[0,\"ADR\"] = ADR\n",
    "    out_single.loc[0,\"Week_day\"] = Week_day\n",
    "    out_single.loc[0,\"ArrivalDateWeekNumber\"] = ArrivalDateWeekNumber\n",
    "    out_single.loc[0,\"ArrivalDateYear\"] = ArrivalDateYear\n",
    "    out_single.loc[0,\"Day\"] = Day\n",
    "    out_single.loc[0,\"public_holiday\"] = public_holiday\n",
    "    for x in out_single.columns:\n",
    "        out_single[x]=out_single[x].astype(temp[x].dtypes.name)\n",
    "\n",
    "    \n",
    "    return(dem_fun(out_single))   \n"
   ]
  },
  {
   "cell_type": "code",
   "execution_count": 164,
   "metadata": {},
   "outputs": [],
   "source": [
    "# Find the optimal distribution of prices (price probabilities) given fixed price levels, \n",
    "# corresponding demand levels, and availbale product inventory.\n",
    "# \n",
    "# Inputs:\n",
    "#   prices, demands, and revenues are vectors (i-th element corresponds to i-th price level)\n",
    "#   inventory is a scalar (number of availbale units)\n",
    "def optimal_price_probabilities(prices, demands):   \n",
    "    revenues = np.multiply(prices, demands)\n",
    "    \n",
    "    L = len(prices)\n",
    "    M = np.full([1, L], 1)\n",
    "    B = [[1]]\n",
    "    Df = [demands]\n",
    "\n",
    "    res = linprog(-np.array(revenues).flatten(), \n",
    "                  # The coefficients of the linear objective function to be minimized.\n",
    "                  # Flattened, cos 1D array is required\n",
    "                  A_eq=M,\n",
    "                  #The equality constraint matrix. Each row of ``A_eq`` specifies the\n",
    "                  #coefficients of a linear equality constraint on ``x``.\n",
    "                  \n",
    "                  b_eq=B,\n",
    "                  #The equality constraint vector. Each element of ``A_eq @ x`` must equal\n",
    "                  #the corresponding element of ``b_eq``.\n",
    "                  \n",
    "                  A_ub=Df, \n",
    "                  #The inequality constraint matrix. Each row of ``A_ub`` specifies the\n",
    "                  #coefficients of a linear inequality constraint on ``x``\n",
    "                  \n",
    "                  b_ub=np.array([1000]), #Taking some arbitrary inventory \n",
    "                  #The inequality constraint vector. Each element represents an\n",
    "                  #upper bound on the corresponding value of ``A_ub @ x``.\n",
    "                  \n",
    "                  #A_ub @ x <= b_ub\n",
    "                  #A_eq @ x == b_eq\n",
    "                  #lb <= x <= ub\n",
    "                  \n",
    "                  bounds=(0, None))\n",
    "\n",
    "    price_prob = np.array(res.x).reshape(1, L).flatten()\n",
    "    \n",
    "    # res. x = The values of the decision variables that minimizes the objective function while satisfying the constraints.\n",
    "    \n",
    "    # -Res.fun gives the maximum revenue\n",
    "    return -res.fun, price_prob"
   ]
  },
  {
   "cell_type": "code",
   "execution_count": 165,
   "metadata": {},
   "outputs": [],
   "source": [
    "np.random.seed(42)    \n",
    "#Prior distribution\n",
    "def gamma(alpha, beta): \n",
    "    shape = alpha\n",
    "    scale = 1/beta\n",
    "    return np.random.gamma(shape, scale)\n",
    "\n",
    "def sample_demands_from_model(θ):\n",
    "    return list(map(lambda v: gamma(v['alpha'], v['beta']), θ))"
   ]
  },
  {
   "cell_type": "code",
   "execution_count": 166,
   "metadata": {},
   "outputs": [
    {
     "name": "stdout",
     "output_type": "stream",
     "text": [
      "Populating the interactive namespace from numpy and matplotlib\n"
     ]
    },
    {
     "name": "stderr",
     "output_type": "stream",
     "text": [
      "C:\\Users\\hariramg\\AppData\\Local\\Continuum\\anaconda3\\lib\\site-packages\\IPython\\core\\magics\\pylab.py:160: UserWarning: pylab import has clobbered these variables: ['gamma']\n",
      "`%matplotlib` prevents importing * from pylab and numpy\n",
      "  \"\\n`%matplotlib` prevents importing * from pylab and numpy\"\n"
     ]
    }
   ],
   "source": [
    "%pylab inline\n",
    "pylab.rcParams['figure.figsize'] = (15, 6)"
   ]
  },
  {
   "cell_type": "code",
   "execution_count": 167,
   "metadata": {},
   "outputs": [],
   "source": [
    "#Pending , need to plot date in x axis\n",
    "def visualize_snapshot(st,en,history):\n",
    "   \n",
    "    t = (en - st).days - 2\n",
    "    st = dt.datetime.strptime(str(st), \"%Y-%m-%d\")\n",
    "    en = dt.datetime.strptime(str(en), \"%Y-%m-%d\")\n",
    "    len1 = history.shape[0]\n",
    "    \n",
    "    date_range = list(get_daterange(en, st,timedelta(days=1)))\n",
    "\n",
    "    \n",
    "    fig, ax =plt.subplots(6,1)\n",
    "    sns.lineplot(range(history.shape[0]),history.act_price, ax=ax[0])\n",
    "    sns.barplot(list(range(history.shape[0])),history.act_demand, ax=ax[1])\n",
    "    sns.barplot(list(range(history.shape[0])),history.act_Revenue, ax=ax[2])\n",
    "    sns.lineplot(range(history.shape[0]),history.selected_price, ax=ax[3])\n",
    "    sns.barplot(list(range(history.shape[0])),history.obs_demand, ax=ax[4])\n",
    "    sns.barplot(list(range(history.shape[0])),history.Revenue, ax=ax[5])\n",
    "    fig.show()\n",
    "    \n",
    "    "
   ]
  },
  {
   "cell_type": "code",
   "execution_count": 253,
   "metadata": {},
   "outputs": [
    {
     "data": {
      "text/plain": [
       "9ABB        953\n",
       "9DBB        918\n",
       "7ABB        897\n",
       " NULLABB    877\n",
       "14ABB       873\n",
       "14DBB       838\n",
       "28DBB       837\n",
       "27ABB       830\n",
       "8ABB        827\n",
       " NULLDBB    827\n",
       "Name: code, dtype: int64"
      ]
     },
     "execution_count": 253,
     "metadata": {},
     "output_type": "execute_result"
    }
   ],
   "source": [
    "temp_df1 = pd.DataFrame(df_dem_for_reg.values)\n",
    "temp_df1.columns = df_dem_for_reg.columns\n",
    "temp_df1[\"code\"] = temp_df1['Agent'].astype(str) + temp_df1['AssignedRoomType'].astype(str) + temp_df1['Meal'].astype(str)\n",
    "temp_df1[\"code\"].value_counts()[:10]"
   ]
  },
  {
   "cell_type": "code",
   "execution_count": 273,
   "metadata": {},
   "outputs": [],
   "source": [
    "def RL_fun(Agent1 = [\"9\",\"7\",\"14\"],AssignedRoomType1 = [\"A\"],Meal1 = [\"BB\"],\n",
    "           start_date = dt.date(2017, 7, 1),end_date = dt.date(2017, 7, 15),history_full = [], price_space = 5,\n",
    "           price_explore = 20,initial_rampup = 1.0,input_df=pd.DataFrame(),\n",
    "          monthDict={1:'January', 2:'February', 3:'March', 4:'April', 5:'May', 6:'June',\n",
    "           7:'July', 8:'August', 9:'September', 10:'October', 11:'November', 12:'December'}):    \n",
    "    #Price space is the price range interval we will try\n",
    "    #Price explore is the price explore above and below curr price. Curr price is given by price fun\n",
    "    \n",
    "    if(input_df.shape[0] == 0):\n",
    "        input_df = pd.DataFrame(expandgrid(Agent1,AssignedRoomType1,Meal1))\n",
    "        input_df.columns = [\"Agent\",\"AssignedRoomType\",\"Meal\"]\n",
    "        input_df['code'] = input_df['Agent'].astype(str) + input_df['AssignedRoomType'].astype(str) + input_df['Meal'].astype(str)\n",
    "    \n",
    "    \n",
    "    \n",
    "    for i in range(input_df.shape[0]): \n",
    "        print(input_df['code'][i])\n",
    "        history = []\n",
    "        θ = []\n",
    "        act_history = []\n",
    "        \n",
    "        code = str(input_df.code[i])\n",
    "\n",
    "        #Find a price for the particular demand\n",
    "        #First find out the date related features\n",
    "        curr_date = start_date\n",
    "        curr_year = curr_date.year\n",
    "        curr_month = monthDict[curr_date.month]\n",
    "        curr_week = curr_date.isocalendar()[1]\n",
    "        curr_weekday = curr_date.isoweekday()\n",
    "        curr_day = curr_date.day\n",
    "        curr_holiday = (start_date in us_holidays) * 1\n",
    "\n",
    "        #Second find other features from the df element (type of product)\n",
    "        curr_Agent = input_df.Agent[i]\n",
    "        curr_AssignedRoomType = input_df.AssignedRoomType[i]\n",
    "        curr_Meal = input_df.Meal[i]\n",
    "        \n",
    "        \n",
    "        # =>Check from history whether already the code is run before \n",
    "        # a. Find the count of the code in the history\n",
    "        prv_count =0 \n",
    "        if((history_full != [])):\n",
    "            num = (np.pad(np.array(history_full)[:, 0], (0, 0), 'constant'))\n",
    "            num = list(num)\n",
    "            prv_count = num.count(code)\n",
    "\n",
    "        # b. Assign previous theta (most latest) if previously availble\n",
    "        if(prv_count > 0):\n",
    "            θ = list(np.pad(np.array(history_full)[prv_count-1,4], (0, 0), 'constant'))\n",
    "        # c. Else initalize\n",
    "        else:\n",
    "            #Now find the predicted price and make a price list\n",
    "            pred_price = price_single_fun(curr_year,curr_month,curr_week,curr_Agent,curr_AssignedRoomType,curr_Meal)\n",
    "            \n",
    "            #prices = list(range(int(curr_df['ADR'].min()-price_explore),int(curr_df['ADR'].max()+price_explore),price_space))\n",
    "            \n",
    "            prices = list(range((int(pred_price) - price_explore),(int(pred_price) + price_explore),price_space))\n",
    "            prices = [p for p in prices if p > 0]\n",
    "            \n",
    "            #For each price keep a demand distribution gamma distribution with alpha = demand, beta = 1 , mean = demand\n",
    "            demand_at_price = [0] * len(prices)\n",
    "            temp_count = 0\n",
    "            for p in prices:\n",
    "                #Initalize with model demands\n",
    "                demand_at_price[temp_count] = dem_single_fun(curr_Agent, curr_AssignedRoomType, curr_Meal,curr_month,p,\n",
    "                                             curr_weekday,curr_week,curr_year,curr_day,curr_holiday)\n",
    "                demand_at_price[temp_count] = demand_at_price[temp_count][0] * initial_rampup\n",
    "                \n",
    "                #To eliminate below zeros values\n",
    "                #demand_at_price[temp_count] = max(0,demand_at_price[temp_count])\n",
    "                #print(demand_at_price[temp_count])\n",
    "                \n",
    "                demand_at_price[temp_count] = np.random.poisson(demand_at_price[temp_count], 1)[0]\n",
    "                #print(demand_at_price[temp_count])\n",
    "                θ.append({'price': p, 'alpha': demand_at_price[temp_count], 'beta': 1.00, 'mean': demand_at_price[temp_count]})\n",
    "                temp_count+=1\n",
    "        \n",
    "        T = (end_date - start_date).days\n",
    "        date_range = [0] * T\n",
    "\n",
    "        for t in range(0, T):   # simulation loop\n",
    "            \n",
    "            date_range[t] = curr_date\n",
    "            #For actual Revenue calculation\n",
    "            temp99_df = pd.DataFrame(df_dem_for_reg.values)\n",
    "            temp99_df.columns = df_dem_for_reg.columns\n",
    "            temp99_df[\"code_date\"] = df_dem_for_reg['Agent'].astype(str) + df_dem_for_reg['AssignedRoomType'].astype(str) + df_dem_for_reg['Meal'].astype(str) + df_dem_for_reg['date'].astype(str)\n",
    "            \n",
    "            code_date = code + str(curr_date)\n",
    "            \n",
    "            #print(\"code_date\",code_date)\n",
    "            #print(temp99_df.code_date)\n",
    "            \n",
    "            temp100_df = temp99_df[temp99_df.code_date == code_date]\n",
    "            \n",
    "                                         \n",
    "            temp100_df.columns = temp99_df.columns\n",
    "            temp100_df.index = range(temp100_df.shape[0])\n",
    "            \n",
    "            if(temp100_df.empty):\n",
    "                act_price = 0\n",
    "                act_demand = 0\n",
    "                act_Revenue = 0\n",
    "                \n",
    "            else:\n",
    "                act_price = temp100_df.ADR[0]\n",
    "                act_demand = temp100_df.demand[0]\n",
    "                act_Revenue = act_price * act_demand\n",
    "            \n",
    "            act_history.append([act_price, act_demand, act_Revenue])\n",
    "                                    \n",
    "\n",
    "            demands = np.floor(sample_demands_from_model(θ))\n",
    "            demands = demands[demands >=0]\n",
    "\n",
    "            #Demand is a gamma distribution with alpha and beta values\n",
    "            #print(tabulate(np.array(θ), tablefmt=\"fancy_grid\"))\n",
    "\n",
    "            #print(\"demands = \", np.array(demands))\n",
    "\n",
    "            pred_revenue, price_probs = optimal_price_probabilities(prices, demands)\n",
    "\n",
    "            # select one best price\n",
    "            price_index_t = list(price_probs).index(max(price_probs))\n",
    "            #Not using below line - old code\n",
    "            #price_index_t = np.random.choice(len(prices), 1, p=price_probs)[0]\n",
    "            price_t = prices[price_index_t]\n",
    "\n",
    "            #Not using below\n",
    "            #pred_demand = pred_revenue/price_t\n",
    "            #print('selected price %.2f => predicted demand %.2f, predicted revenue %.2f' % (price_t, pred_demand, pred_revenue))\n",
    "\n",
    "            # sell at the selected price and observe demand - actual\n",
    "            dem_for_poisson = dem_single_fun(curr_Agent, curr_AssignedRoomType, curr_Meal,curr_month,price_t,\n",
    "                                             curr_weekday,curr_week,curr_year,curr_day,curr_holiday)\n",
    "            #demand_t = dem_for_poisson\n",
    "            demand_t = np.random.poisson(dem_for_poisson, 1)[0]\n",
    "            #print(demand_t)\n",
    "            #print('selected price %.2f => demand %.2f, revenue %.2f' % (price_t, demand_t, demand_t*price_t))\n",
    "\n",
    "            theta_trace = []\n",
    "            for v in θ:\n",
    "                theta_trace.append(v.copy())\n",
    "            history.append([price_t, demand_t, demand_t*price_t, theta_trace])\n",
    "            history_full.append([curr_date,code,act_price, act_demand, act_Revenue,price_t, demand_t, demand_t*price_t, theta_trace])\n",
    "\n",
    "            # update model parameters\n",
    "            v = θ[price_index_t]\n",
    "            #print(f\"Alpha is {v['alpha']}.\") \n",
    "            v['alpha'] = v['alpha'] + demand_t\n",
    "            v['beta'] = v['beta'] + 1\n",
    "            v['mean'] = v['alpha'] / v['beta']\n",
    "                  \n",
    "            #First find out the date related features\n",
    "            curr_date += timedelta(days=1)\n",
    "            curr_year = curr_date.year\n",
    "            curr_month = monthDict[curr_date.month]\n",
    "            curr_week = curr_date.isocalendar()[1]\n",
    "            curr_weekday = curr_date.isoweekday()\n",
    "            curr_day = curr_date.day\n",
    "            curr_holiday = (curr_date in us_holidays) * 1\n",
    "             \n",
    "        temp5_df = pd.DataFrame(history)\n",
    "        temp5_df.columns = [\"selected_price\",\"obs_demand\",\"Revenue\",\"params\"]\n",
    "        temp6_df = pd.DataFrame(act_history)\n",
    "        temp6_df.columns = [\"act_price\",\"act_demand\",\"act_Revenue\"]\n",
    "        temp7_df = pd.concat([temp6_df, temp5_df], axis=1)\n",
    "        #print(code)\n",
    "        #print(temp5_df.selected_price.value_counts())\n",
    "        #fig = plt.figure(figsize = (10, 12))\n",
    "        plt.subplots_adjust(hspace = 0.5)\n",
    "        visualize_snapshot(start_date,end_date,temp7_df)   # visualize the final state of the simulation\n",
    "        plt.show()\n",
    "    \n",
    "   \n",
    "    history_df = pd.DataFrame(history_full)\n",
    "    #print(history_full)\n",
    "    #history_df.index = date_range\n",
    "    history_df.columns = [\"date\",\"code\",\"act_price\",\"act_demand\",\"act_Revenue\",\"selected_price\",\"obs_demand\",\"Revenue\",\"params\"]\n",
    "    return(history_df,history_full)"
   ]
  },
  {
   "cell_type": "code",
   "execution_count": 274,
   "metadata": {},
   "outputs": [
    {
     "name": "stdout",
     "output_type": "stream",
     "text": [
      "9ABB\n"
     ]
    },
    {
     "name": "stderr",
     "output_type": "stream",
     "text": [
      "C:\\Users\\hariramg\\AppData\\Local\\Continuum\\anaconda3\\lib\\site-packages\\ipykernel_launcher.py:19: UserWarning: Matplotlib is currently using module://ipykernel.pylab.backend_inline, which is a non-GUI backend, so cannot show the figure.\n"
     ]
    },
    {
     "data": {
      "text/plain": [
       "<Figure size 1080x432 with 0 Axes>"
      ]
     },
     "metadata": {},
     "output_type": "display_data"
    },
    {
     "data": {
      "image/png": "[encoded data removed]",
      "text/plain": [
       "<Figure size 1080x432 with 6 Axes>"
      ]
     },
     "metadata": {
      "needs_background": "light"
     },
     "output_type": "display_data"
    },
    {
     "name": "stdout",
     "output_type": "stream",
     "text": [
      "7ABB\n"
     ]
    },
    {
     "data": {
      "text/plain": [
       "<Figure size 1080x432 with 0 Axes>"
      ]
     },
     "metadata": {},
     "output_type": "display_data"
    },
    {
     "data": {
      "image/png": "[encoded data removed]",
      "text/plain": [
       "<Figure size 1080x432 with 6 Axes>"
      ]
     },
     "metadata": {
      "needs_background": "light"
     },
     "output_type": "display_data"
    },
    {
     "name": "stdout",
     "output_type": "stream",
     "text": [
      "14ABB\n"
     ]
    },
    {
     "data": {
      "text/plain": [
       "<Figure size 1080x432 with 0 Axes>"
      ]
     },
     "metadata": {},
     "output_type": "display_data"
    },
    {
     "data": {
      "image/png": "[encoded data removed]",
      "text/plain": [
       "<Figure size 1080x432 with 6 Axes>"
      ]
     },
     "metadata": {
      "needs_background": "light"
     },
     "output_type": "display_data"
    }
   ],
   "source": [
    "a, b = RL_fun()"
   ]
  },
  {
   "cell_type": "code",
   "execution_count": 331,
   "metadata": {},
   "outputs": [
    {
     "data": {
      "text/html": [
       "<div>\n",
       "<style scoped>\n",
       "    .dataframe tbody tr th:only-of-type {\n",
       "        vertical-align: middle;\n",
       "    }\n",
       "\n",
       "    .dataframe tbody tr th {\n",
       "        vertical-align: top;\n",
       "    }\n",
       "\n",
       "    .dataframe thead th {\n",
       "        text-align: right;\n",
       "    }\n",
       "</style>\n",
       "<table border=\"1\" class=\"dataframe\">\n",
       "  <thead>\n",
       "    <tr style=\"text-align: right;\">\n",
       "      <th></th>\n",
       "      <th>code</th>\n",
       "      <th>act_Revenue</th>\n",
       "      <th>Revenue</th>\n",
       "    </tr>\n",
       "  </thead>\n",
       "  <tbody>\n",
       "    <tr>\n",
       "      <th>0</th>\n",
       "      <td>14ABB</td>\n",
       "      <td>20216.42</td>\n",
       "      <td>20162</td>\n",
       "    </tr>\n",
       "    <tr>\n",
       "      <th>1</th>\n",
       "      <td>7ABB</td>\n",
       "      <td>6678.24</td>\n",
       "      <td>13802</td>\n",
       "    </tr>\n",
       "    <tr>\n",
       "      <th>2</th>\n",
       "      <td>9ABB</td>\n",
       "      <td>92292.22</td>\n",
       "      <td>98465</td>\n",
       "    </tr>\n",
       "    <tr>\n",
       "      <th>3</th>\n",
       "      <td>total</td>\n",
       "      <td>119186.88</td>\n",
       "      <td>132429</td>\n",
       "    </tr>\n",
       "  </tbody>\n",
       "</table>\n",
       "</div>"
      ],
      "text/plain": [
       "    code  act_Revenue  Revenue\n",
       "0  14ABB     20216.42    20162\n",
       "1   7ABB      6678.24    13802\n",
       "2   9ABB     92292.22    98465\n",
       "3  total    119186.88   132429"
      ]
     },
     "execution_count": 331,
     "metadata": {},
     "output_type": "execute_result"
    }
   ],
   "source": [
    "new_df = a.groupby(\"code\", as_index=False).sum()[['code','act_Revenue',\"Revenue\"]]\n",
    "row = [\"total\", sum(new_df.act_Revenue), sum(new_df.Revenue)]\n",
    "new_df.loc[len(new_df)] = row\n",
    "new_df"
   ]
  },
  {
   "cell_type": "code",
   "execution_count": 334,
   "metadata": {
    "scrolled": true
   },
   "outputs": [
    {
     "name": "stdout",
     "output_type": "stream",
     "text": [
      "119186.88000000006\n",
      "132429\n"
     ]
    }
   ],
   "source": [
    "print(a.act_Revenue.sum())\n",
    "print(a.Revenue.sum())"
   ]
  },
  {
   "cell_type": "code",
   "execution_count": 335,
   "metadata": {},
   "outputs": [
    {
     "data": {
      "image/png": "[encoded data removed]",
      "text/plain": [
       "<Figure size 720x360 with 1 Axes>"
      ]
     },
     "metadata": {
      "needs_background": "light"
     },
     "output_type": "display_data"
    }
   ],
   "source": [
    "fig, ax1 = pyplot.subplots(figsize=(10, 5))\n",
    "tidy = new_df.melt(id_vars='code').rename(columns=str.title)\n",
    "sns.barplot(x='Code', y=\"Value\",hue = 'Variable', data=tidy, ax=ax1)\n",
    "sns.despine(fig)"
   ]
  },
  {
   "cell_type": "code",
   "execution_count": 5,
   "metadata": {},
   "outputs": [
    {
     "name": "stdout",
     "output_type": "stream",
     "text": [
      "Requirement already satisfied: flask in c:\\users\\vijaygarg01\\appdata\\local\\continuum\\anaconda3\\lib\\site-packages (1.1.1)\n",
      "Requirement already satisfied: itsdangerous>=0.24 in c:\\users\\vijaygarg01\\appdata\\local\\continuum\\anaconda3\\lib\\site-packages (from flask) (1.1.0)\n",
      "Requirement already satisfied: click>=5.1 in c:\\users\\vijaygarg01\\appdata\\local\\continuum\\anaconda3\\lib\\site-packages (from flask) (7.0)\n",
      "Requirement already satisfied: Jinja2>=2.10.1 in c:\\users\\vijaygarg01\\appdata\\local\\continuum\\anaconda3\\lib\\site-packages (from flask) (2.10.1)\n",
      "Requirement already satisfied: Werkzeug>=0.15 in c:\\users\\vijaygarg01\\appdata\\local\\continuum\\anaconda3\\lib\\site-packages (from flask) (0.15.4)\n",
      "Requirement already satisfied: MarkupSafe>=0.23 in c:\\users\\vijaygarg01\\appdata\\local\\continuum\\anaconda3\\lib\\site-packages (from Jinja2>=2.10.1->flask) (1.1.1)\n"
     ]
    }
   ],
   "source": [
    "! pip install flask"
   ]
  },
  {
   "cell_type": "code",
   "execution_count": null,
   "metadata": {},
   "outputs": [],
   "source": []
  }
 ],
 "metadata": {
  "kernelspec": {
   "display_name": "Python 3",
   "language": "python",
   "name": "python3"
  },
  "language_info": {
   "codemirror_mode": {
    "name": "ipython",
    "version": 3
   },
   "file_extension": ".py",
   "mimetype": "text/x-python",
   "name": "python",
   "nbconvert_exporter": "python",
   "pygments_lexer": "ipython3",
   "version": "3.7.3"
  }
 },
 "nbformat": 4,
 "nbformat_minor": 2
}
